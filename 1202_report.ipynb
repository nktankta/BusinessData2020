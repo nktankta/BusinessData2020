{
 "cells": [
  {
   "cell_type": "code",
   "execution_count": 1,
   "metadata": {
    "collapsed": true
   },
   "outputs": [],
   "source": [
    "import pandas as pd\n",
    "import numpy as np\n",
    "import matplotlib.pyplot as plt"
   ]
  },
  {
   "cell_type": "code",
   "execution_count": 2,
   "outputs": [],
   "source": [
    "path = u\"./課題用ファイル/\"\n",
    "fev = pd.read_csv(path+\"fevurary.csv\",encoding=\"shift_jis\")\n",
    "jan = pd.read_csv(path+\"january.csv\",encoding=\"shift_jis\")\n",
    "mar = pd.read_csv(path+\"march.csv\",encoding=\"shift_jis\")\n",
    "profile = pd.read_csv(path+\"profile.csv\",encoding=\"shift_jis\")"
   ],
   "metadata": {
    "collapsed": false,
    "pycharm": {
     "name": "#%%\n"
    }
   }
  },
  {
   "cell_type": "code",
   "execution_count": 3,
   "outputs": [
    {
     "data": {
      "text/plain": "    顧客ID  うまい棒サラダ味  うまい棒コーンポタージュ味  ベビースターラーメン  柿の種  サッポロポテト  キットカット  おーいお茶  \\\n0      1        18             34          10    3        0       1      5   \n1      2        12             13          12   10        6       4      0   \n2      3        27              2          12   12       10       6      1   \n3      4        14              7          10    7        0       5      0   \n4      5         0             34          12    0        7       6      2   \n..   ...       ...            ...         ...  ...      ...     ...    ...   \n93    94        10             33           8    8       10       4      3   \n94    95        16             14          11    7        0       2      1   \n95    96         2             29          11    6        7       0      2   \n96    97         0             24          11    1        1       2      1   \n97    98         0             23           8    6        0       4      1   \n\n    おいしい珈琲  ミネラル麦茶  レッドブル  購入金額  \n0        1      13      5  4410  \n1        0      17     12  5840  \n2        4      12     13  6140  \n3        3      11     15  5990  \n4        5      16      9  5720  \n..     ...     ...    ...   ...  \n93       4      11      6  4680  \n94       1      10     10  4700  \n95       3      11      0  2780  \n96       4      15      8  4870  \n97       0      11      5  3370  \n\n[98 rows x 12 columns]",
      "text/html": "<div>\n<style scoped>\n    .dataframe tbody tr th:only-of-type {\n        vertical-align: middle;\n    }\n\n    .dataframe tbody tr th {\n        vertical-align: top;\n    }\n\n    .dataframe thead th {\n        text-align: right;\n    }\n</style>\n<table border=\"1\" class=\"dataframe\">\n  <thead>\n    <tr style=\"text-align: right;\">\n      <th></th>\n      <th>顧客ID</th>\n      <th>うまい棒サラダ味</th>\n      <th>うまい棒コーンポタージュ味</th>\n      <th>ベビースターラーメン</th>\n      <th>柿の種</th>\n      <th>サッポロポテト</th>\n      <th>キットカット</th>\n      <th>おーいお茶</th>\n      <th>おいしい珈琲</th>\n      <th>ミネラル麦茶</th>\n      <th>レッドブル</th>\n      <th>購入金額</th>\n    </tr>\n  </thead>\n  <tbody>\n    <tr>\n      <th>0</th>\n      <td>1</td>\n      <td>18</td>\n      <td>34</td>\n      <td>10</td>\n      <td>3</td>\n      <td>0</td>\n      <td>1</td>\n      <td>5</td>\n      <td>1</td>\n      <td>13</td>\n      <td>5</td>\n      <td>4410</td>\n    </tr>\n    <tr>\n      <th>1</th>\n      <td>2</td>\n      <td>12</td>\n      <td>13</td>\n      <td>12</td>\n      <td>10</td>\n      <td>6</td>\n      <td>4</td>\n      <td>0</td>\n      <td>0</td>\n      <td>17</td>\n      <td>12</td>\n      <td>5840</td>\n    </tr>\n    <tr>\n      <th>2</th>\n      <td>3</td>\n      <td>27</td>\n      <td>2</td>\n      <td>12</td>\n      <td>12</td>\n      <td>10</td>\n      <td>6</td>\n      <td>1</td>\n      <td>4</td>\n      <td>12</td>\n      <td>13</td>\n      <td>6140</td>\n    </tr>\n    <tr>\n      <th>3</th>\n      <td>4</td>\n      <td>14</td>\n      <td>7</td>\n      <td>10</td>\n      <td>7</td>\n      <td>0</td>\n      <td>5</td>\n      <td>0</td>\n      <td>3</td>\n      <td>11</td>\n      <td>15</td>\n      <td>5990</td>\n    </tr>\n    <tr>\n      <th>4</th>\n      <td>5</td>\n      <td>0</td>\n      <td>34</td>\n      <td>12</td>\n      <td>0</td>\n      <td>7</td>\n      <td>6</td>\n      <td>2</td>\n      <td>5</td>\n      <td>16</td>\n      <td>9</td>\n      <td>5720</td>\n    </tr>\n    <tr>\n      <th>...</th>\n      <td>...</td>\n      <td>...</td>\n      <td>...</td>\n      <td>...</td>\n      <td>...</td>\n      <td>...</td>\n      <td>...</td>\n      <td>...</td>\n      <td>...</td>\n      <td>...</td>\n      <td>...</td>\n      <td>...</td>\n    </tr>\n    <tr>\n      <th>93</th>\n      <td>94</td>\n      <td>10</td>\n      <td>33</td>\n      <td>8</td>\n      <td>8</td>\n      <td>10</td>\n      <td>4</td>\n      <td>3</td>\n      <td>4</td>\n      <td>11</td>\n      <td>6</td>\n      <td>4680</td>\n    </tr>\n    <tr>\n      <th>94</th>\n      <td>95</td>\n      <td>16</td>\n      <td>14</td>\n      <td>11</td>\n      <td>7</td>\n      <td>0</td>\n      <td>2</td>\n      <td>1</td>\n      <td>1</td>\n      <td>10</td>\n      <td>10</td>\n      <td>4700</td>\n    </tr>\n    <tr>\n      <th>95</th>\n      <td>96</td>\n      <td>2</td>\n      <td>29</td>\n      <td>11</td>\n      <td>6</td>\n      <td>7</td>\n      <td>0</td>\n      <td>2</td>\n      <td>3</td>\n      <td>11</td>\n      <td>0</td>\n      <td>2780</td>\n    </tr>\n    <tr>\n      <th>96</th>\n      <td>97</td>\n      <td>0</td>\n      <td>24</td>\n      <td>11</td>\n      <td>1</td>\n      <td>1</td>\n      <td>2</td>\n      <td>1</td>\n      <td>4</td>\n      <td>15</td>\n      <td>8</td>\n      <td>4870</td>\n    </tr>\n    <tr>\n      <th>97</th>\n      <td>98</td>\n      <td>0</td>\n      <td>23</td>\n      <td>8</td>\n      <td>6</td>\n      <td>0</td>\n      <td>4</td>\n      <td>1</td>\n      <td>0</td>\n      <td>11</td>\n      <td>5</td>\n      <td>3370</td>\n    </tr>\n  </tbody>\n</table>\n<p>98 rows × 12 columns</p>\n</div>"
     },
     "execution_count": 3,
     "metadata": {},
     "output_type": "execute_result"
    }
   ],
   "source": [
    "fev"
   ],
   "metadata": {
    "collapsed": false,
    "pycharm": {
     "name": "#%%\n"
    }
   }
  },
  {
   "cell_type": "code",
   "execution_count": 4,
   "outputs": [
    {
     "data": {
      "text/plain": "    顧客ID  うまい棒サラダ味  うまい棒コーンポタージュ味  ベビースターラーメン  柿の種  サッポロポテト  キットカット  おーいお茶  \\\n0      1         0              0          10    0        3       0      1   \n1      2         0              0          12   10        7       4      2   \n2      3        19             22           9   14        7       1      1   \n3      4        23             24          10   20        0       5      1   \n4      5         0              3          11   12        0       5      6   \n..   ...       ...            ...         ...  ...      ...     ...    ...   \n93    94        20             23          10    0        6       0      2   \n94    95        14             16           9   10        5       2      5   \n95    96         0              2          10    7        4       3      0   \n96    97         0              3           7   16        8       3      5   \n97    98         0              1           9   22        6       4      1   \n\n    おいしい珈琲  ミネラル麦茶  レッドブル  購入金額  \n0        1       9      0  1430  \n1        0      14      6  3870  \n2        0       8      2  2800  \n3        3      14      9  5710  \n4        1      13      6  4300  \n..     ...     ...    ...   ...  \n93       5      13      3  3770  \n94       4       9      4  3900  \n95       4      14      7  4170  \n96       4       6      2  2860  \n97       2       9      7  4000  \n\n[98 rows x 12 columns]",
      "text/html": "<div>\n<style scoped>\n    .dataframe tbody tr th:only-of-type {\n        vertical-align: middle;\n    }\n\n    .dataframe tbody tr th {\n        vertical-align: top;\n    }\n\n    .dataframe thead th {\n        text-align: right;\n    }\n</style>\n<table border=\"1\" class=\"dataframe\">\n  <thead>\n    <tr style=\"text-align: right;\">\n      <th></th>\n      <th>顧客ID</th>\n      <th>うまい棒サラダ味</th>\n      <th>うまい棒コーンポタージュ味</th>\n      <th>ベビースターラーメン</th>\n      <th>柿の種</th>\n      <th>サッポロポテト</th>\n      <th>キットカット</th>\n      <th>おーいお茶</th>\n      <th>おいしい珈琲</th>\n      <th>ミネラル麦茶</th>\n      <th>レッドブル</th>\n      <th>購入金額</th>\n    </tr>\n  </thead>\n  <tbody>\n    <tr>\n      <th>0</th>\n      <td>1</td>\n      <td>0</td>\n      <td>0</td>\n      <td>10</td>\n      <td>0</td>\n      <td>3</td>\n      <td>0</td>\n      <td>1</td>\n      <td>1</td>\n      <td>9</td>\n      <td>0</td>\n      <td>1430</td>\n    </tr>\n    <tr>\n      <th>1</th>\n      <td>2</td>\n      <td>0</td>\n      <td>0</td>\n      <td>12</td>\n      <td>10</td>\n      <td>7</td>\n      <td>4</td>\n      <td>2</td>\n      <td>0</td>\n      <td>14</td>\n      <td>6</td>\n      <td>3870</td>\n    </tr>\n    <tr>\n      <th>2</th>\n      <td>3</td>\n      <td>19</td>\n      <td>22</td>\n      <td>9</td>\n      <td>14</td>\n      <td>7</td>\n      <td>1</td>\n      <td>1</td>\n      <td>0</td>\n      <td>8</td>\n      <td>2</td>\n      <td>2800</td>\n    </tr>\n    <tr>\n      <th>3</th>\n      <td>4</td>\n      <td>23</td>\n      <td>24</td>\n      <td>10</td>\n      <td>20</td>\n      <td>0</td>\n      <td>5</td>\n      <td>1</td>\n      <td>3</td>\n      <td>14</td>\n      <td>9</td>\n      <td>5710</td>\n    </tr>\n    <tr>\n      <th>4</th>\n      <td>5</td>\n      <td>0</td>\n      <td>3</td>\n      <td>11</td>\n      <td>12</td>\n      <td>0</td>\n      <td>5</td>\n      <td>6</td>\n      <td>1</td>\n      <td>13</td>\n      <td>6</td>\n      <td>4300</td>\n    </tr>\n    <tr>\n      <th>...</th>\n      <td>...</td>\n      <td>...</td>\n      <td>...</td>\n      <td>...</td>\n      <td>...</td>\n      <td>...</td>\n      <td>...</td>\n      <td>...</td>\n      <td>...</td>\n      <td>...</td>\n      <td>...</td>\n      <td>...</td>\n    </tr>\n    <tr>\n      <th>93</th>\n      <td>94</td>\n      <td>20</td>\n      <td>23</td>\n      <td>10</td>\n      <td>0</td>\n      <td>6</td>\n      <td>0</td>\n      <td>2</td>\n      <td>5</td>\n      <td>13</td>\n      <td>3</td>\n      <td>3770</td>\n    </tr>\n    <tr>\n      <th>94</th>\n      <td>95</td>\n      <td>14</td>\n      <td>16</td>\n      <td>9</td>\n      <td>10</td>\n      <td>5</td>\n      <td>2</td>\n      <td>5</td>\n      <td>4</td>\n      <td>9</td>\n      <td>4</td>\n      <td>3900</td>\n    </tr>\n    <tr>\n      <th>95</th>\n      <td>96</td>\n      <td>0</td>\n      <td>2</td>\n      <td>10</td>\n      <td>7</td>\n      <td>4</td>\n      <td>3</td>\n      <td>0</td>\n      <td>4</td>\n      <td>14</td>\n      <td>7</td>\n      <td>4170</td>\n    </tr>\n    <tr>\n      <th>96</th>\n      <td>97</td>\n      <td>0</td>\n      <td>3</td>\n      <td>7</td>\n      <td>16</td>\n      <td>8</td>\n      <td>3</td>\n      <td>5</td>\n      <td>4</td>\n      <td>6</td>\n      <td>2</td>\n      <td>2860</td>\n    </tr>\n    <tr>\n      <th>97</th>\n      <td>98</td>\n      <td>0</td>\n      <td>1</td>\n      <td>9</td>\n      <td>22</td>\n      <td>6</td>\n      <td>4</td>\n      <td>1</td>\n      <td>2</td>\n      <td>9</td>\n      <td>7</td>\n      <td>4000</td>\n    </tr>\n  </tbody>\n</table>\n<p>98 rows × 12 columns</p>\n</div>"
     },
     "execution_count": 4,
     "metadata": {},
     "output_type": "execute_result"
    }
   ],
   "source": [
    "jan"
   ],
   "metadata": {
    "collapsed": false,
    "pycharm": {
     "name": "#%%\n"
    }
   }
  },
  {
   "cell_type": "code",
   "execution_count": 5,
   "outputs": [
    {
     "data": {
      "text/plain": "    顧客ID  女性  年齢  居住地  最終購買日からの日数  来店回数  総購買金額  店舗への満足度\n0      1   0  25  墨田区          78    20   6190        1\n1      2   0  19   柏市          76    39  10740        4\n2      3   1  19  川崎市          61    26  16630        3\n3      4   1  25  野田市          97    41  11700        4\n4      5   0  18  横浜市          87    40  10170        3\n..   ...  ..  ..  ...         ...   ...    ...      ...\n93    94   1  25  墨田区          68    38   8830        4\n94    95   0  21  川崎市          65    31   8870        3\n95    96   1  19  川崎市          72    23   7310        2\n96    97   1  23  野田市          89    45   8270        3\n97    98   0  23  野田市          73    21   7380        2\n\n[98 rows x 8 columns]",
      "text/html": "<div>\n<style scoped>\n    .dataframe tbody tr th:only-of-type {\n        vertical-align: middle;\n    }\n\n    .dataframe tbody tr th {\n        vertical-align: top;\n    }\n\n    .dataframe thead th {\n        text-align: right;\n    }\n</style>\n<table border=\"1\" class=\"dataframe\">\n  <thead>\n    <tr style=\"text-align: right;\">\n      <th></th>\n      <th>顧客ID</th>\n      <th>女性</th>\n      <th>年齢</th>\n      <th>居住地</th>\n      <th>最終購買日からの日数</th>\n      <th>来店回数</th>\n      <th>総購買金額</th>\n      <th>店舗への満足度</th>\n    </tr>\n  </thead>\n  <tbody>\n    <tr>\n      <th>0</th>\n      <td>1</td>\n      <td>0</td>\n      <td>25</td>\n      <td>墨田区</td>\n      <td>78</td>\n      <td>20</td>\n      <td>6190</td>\n      <td>1</td>\n    </tr>\n    <tr>\n      <th>1</th>\n      <td>2</td>\n      <td>0</td>\n      <td>19</td>\n      <td>柏市</td>\n      <td>76</td>\n      <td>39</td>\n      <td>10740</td>\n      <td>4</td>\n    </tr>\n    <tr>\n      <th>2</th>\n      <td>3</td>\n      <td>1</td>\n      <td>19</td>\n      <td>川崎市</td>\n      <td>61</td>\n      <td>26</td>\n      <td>16630</td>\n      <td>3</td>\n    </tr>\n    <tr>\n      <th>3</th>\n      <td>4</td>\n      <td>1</td>\n      <td>25</td>\n      <td>野田市</td>\n      <td>97</td>\n      <td>41</td>\n      <td>11700</td>\n      <td>4</td>\n    </tr>\n    <tr>\n      <th>4</th>\n      <td>5</td>\n      <td>0</td>\n      <td>18</td>\n      <td>横浜市</td>\n      <td>87</td>\n      <td>40</td>\n      <td>10170</td>\n      <td>3</td>\n    </tr>\n    <tr>\n      <th>...</th>\n      <td>...</td>\n      <td>...</td>\n      <td>...</td>\n      <td>...</td>\n      <td>...</td>\n      <td>...</td>\n      <td>...</td>\n      <td>...</td>\n    </tr>\n    <tr>\n      <th>93</th>\n      <td>94</td>\n      <td>1</td>\n      <td>25</td>\n      <td>墨田区</td>\n      <td>68</td>\n      <td>38</td>\n      <td>8830</td>\n      <td>4</td>\n    </tr>\n    <tr>\n      <th>94</th>\n      <td>95</td>\n      <td>0</td>\n      <td>21</td>\n      <td>川崎市</td>\n      <td>65</td>\n      <td>31</td>\n      <td>8870</td>\n      <td>3</td>\n    </tr>\n    <tr>\n      <th>95</th>\n      <td>96</td>\n      <td>1</td>\n      <td>19</td>\n      <td>川崎市</td>\n      <td>72</td>\n      <td>23</td>\n      <td>7310</td>\n      <td>2</td>\n    </tr>\n    <tr>\n      <th>96</th>\n      <td>97</td>\n      <td>1</td>\n      <td>23</td>\n      <td>野田市</td>\n      <td>89</td>\n      <td>45</td>\n      <td>8270</td>\n      <td>3</td>\n    </tr>\n    <tr>\n      <th>97</th>\n      <td>98</td>\n      <td>0</td>\n      <td>23</td>\n      <td>野田市</td>\n      <td>73</td>\n      <td>21</td>\n      <td>7380</td>\n      <td>2</td>\n    </tr>\n  </tbody>\n</table>\n<p>98 rows × 8 columns</p>\n</div>"
     },
     "execution_count": 5,
     "metadata": {},
     "output_type": "execute_result"
    }
   ],
   "source": [
    "profile"
   ],
   "metadata": {
    "collapsed": false,
    "pycharm": {
     "name": "#%%\n"
    }
   }
  },
  {
   "cell_type": "code",
   "execution_count": 7,
   "outputs": [
    {
     "name": "stdout",
     "output_type": "stream",
     "text": [
      "<class 'pandas.core.frame.DataFrame'>\n",
      "Int64Index: 294 entries, 0 to 293\n",
      "Data columns (total 19 columns):\n",
      " #   Column         Non-Null Count  Dtype \n",
      "---  ------         --------------  ----- \n",
      " 0   顧客ID           294 non-null    int64 \n",
      " 1   うまい棒サラダ味       294 non-null    int64 \n",
      " 2   うまい棒コーンポタージュ味  294 non-null    int64 \n",
      " 3   ベビースターラーメン     294 non-null    int64 \n",
      " 4   柿の種            294 non-null    int64 \n",
      " 5   サッポロポテト        294 non-null    int64 \n",
      " 6   キットカット         294 non-null    int64 \n",
      " 7   おーいお茶          294 non-null    int64 \n",
      " 8   おいしい珈琲         294 non-null    int64 \n",
      " 9   ミネラル麦茶         294 non-null    int64 \n",
      " 10  レッドブル          294 non-null    int64 \n",
      " 11  購入金額           294 non-null    int64 \n",
      " 12  女性             294 non-null    int64 \n",
      " 13  年齢             294 non-null    int64 \n",
      " 14  居住地            294 non-null    object\n",
      " 15  最終購買日からの日数     294 non-null    int64 \n",
      " 16  来店回数           294 non-null    int64 \n",
      " 17  総購買金額          294 non-null    int64 \n",
      " 18  店舗への満足度        294 non-null    int64 \n",
      "dtypes: int64(18), object(1)\n",
      "memory usage: 45.9+ KB\n"
     ]
    }
   ],
   "source": [
    "data = pd.concat([jan,fev,mar],axis=0).merge(profile,left_on=\"顧客ID\",right_on=\"顧客ID\")\n",
    "data.info()"
   ],
   "metadata": {
    "collapsed": false,
    "pycharm": {
     "name": "#%%\n"
    }
   }
  },
  {
   "cell_type": "code",
   "execution_count": 10,
   "outputs": [
    {
     "data": {
      "text/plain": "(array([18., 14.,  8.,  0.,  8., 20.,  0., 10.,  9., 11.]),\n array([18. , 18.7, 19.4, 20.1, 20.8, 21.5, 22.2, 22.9, 23.6, 24.3, 25. ]),\n <BarContainer object of 10 artists>)"
     },
     "execution_count": 10,
     "metadata": {},
     "output_type": "execute_result"
    },
    {
     "data": {
      "text/plain": "<Figure size 432x288 with 1 Axes>",
      "image/png": "[encoded data removed]"
     },
     "metadata": {
      "needs_background": "light"
     },
     "output_type": "display_data"
    }
   ],
   "source": [
    "plt.hist(profile[\"年齢\"])"
   ],
   "metadata": {
    "collapsed": false,
    "pycharm": {
     "name": "#%%\n"
    }
   }
  },
  {
   "cell_type": "code",
   "execution_count": 12,
   "outputs": [
    {
     "data": {
      "text/plain": "(array([ 1.,  7., 17., 27., 18., 15.,  7.,  2.,  2.,  2.]),\n array([ 4690.,  5884.,  7078.,  8272.,  9466., 10660., 11854., 13048.,\n        14242., 15436., 16630.]),\n <BarContainer object of 10 artists>)"
     },
     "execution_count": 12,
     "metadata": {},
     "output_type": "execute_result"
    },
    {
     "data": {
      "text/plain": "<Figure size 432x288 with 1 Axes>",
      "image/png": "[encoded data removed]"
     },
     "metadata": {
      "needs_background": "light"
     },
     "output_type": "display_data"
    }
   ],
   "source": [
    "plt.hist(profile[\"総購買金額\"])"
   ],
   "metadata": {
    "collapsed": false,
    "pycharm": {
     "name": "#%%\n"
    }
   }
  },
  {
   "cell_type": "code",
   "execution_count": 18,
   "outputs": [
    {
     "data": {
      "text/plain": "顧客ID               49.500000\nうまい棒サラダ味            8.581633\nうまい棒コーンポタージュ味      10.163265\nベビースターラーメン         10.081633\n柿の種                 7.846939\nサッポロポテト             5.877551\nキットカット              3.102041\nおーいお茶               2.448980\nおいしい珈琲              2.102041\nミネラル麦茶             11.734694\nレッドブル               5.765306\n購入金額             3986.632653\ndtype: float64"
     },
     "execution_count": 18,
     "metadata": {},
     "output_type": "execute_result"
    }
   ],
   "source": [
    "jan.mean()"
   ],
   "metadata": {
    "collapsed": false,
    "pycharm": {
     "name": "#%%\n"
    }
   }
  },
  {
   "cell_type": "code",
   "execution_count": 16,
   "outputs": [
    {
     "data": {
      "text/plain": "顧客ID               49.500000\nうまい棒サラダ味           13.540816\nうまい棒コーンポタージュ味      16.897959\nベビースターラーメン         10.122449\n柿の種                 7.346939\nサッポロポテト             5.377551\nキットカット              3.142857\nおーいお茶               2.061224\nおいしい珈琲              2.163265\nミネラル麦茶             11.908163\nレッドブル               8.428571\n購入金額             4803.061224\ndtype: float64"
     },
     "execution_count": 16,
     "metadata": {},
     "output_type": "execute_result"
    }
   ],
   "source": [
    "fev.mean()"
   ],
   "metadata": {
    "collapsed": false,
    "pycharm": {
     "name": "#%%\n"
    }
   }
  },
  {
   "cell_type": "code",
   "execution_count": 17,
   "outputs": [
    {
     "data": {
      "text/plain": "顧客ID              49.500000\nうまい棒サラダ味           4.724490\nうまい棒コーンポタージュ味      5.010204\nベビースターラーメン         4.000000\n柿の種                2.102041\nサッポロポテト            3.500000\nキットカット             2.571429\nおーいお茶              1.377551\nおいしい珈琲             1.397959\nミネラル麦茶             0.806122\nレッドブル              0.489796\n購入金額             871.836735\ndtype: float64"
     },
     "execution_count": 17,
     "metadata": {},
     "output_type": "execute_result"
    }
   ],
   "source": [
    "mar.mean()"
   ],
   "metadata": {
    "collapsed": false,
    "pycharm": {
     "name": "#%%\n"
    }
   }
  },
  {
   "cell_type": "code",
   "execution_count": 19,
   "outputs": [
    {
     "data": {
      "text/plain": "顧客ID            49.500000\n女性               0.510204\n年齢              21.214286\n最終購買日からの日数      78.397959\n来店回数            30.081633\n総購買金額         9661.530612\n店舗への満足度          3.010204\ndtype: float64"
     },
     "execution_count": 19,
     "metadata": {},
     "output_type": "execute_result"
    }
   ],
   "source": [
    "profile.mean()"
   ],
   "metadata": {
    "collapsed": false,
    "pycharm": {
     "name": "#%%\n"
    }
   }
  },
  {
   "cell_type": "code",
   "execution_count": 20,
   "outputs": [
    {
     "data": {
      "text/plain": "              顧客ID        女性         年齢  最終購買日からの日数       来店回数         総購買金額\n店舗への満足度                                                                     \n1        30.800000  0.200000  22.200000   80.200000  17.400000   7026.000000\n2        45.653846  0.538462  21.269231   79.115385  20.230769   8726.538462\n3        48.514286  0.542857  20.828571   78.028571  32.685714   9656.285714\n4        55.111111  0.518519  21.259259   79.481481  33.259259  10221.851852\n5        64.800000  0.400000  22.400000   69.600000  58.600000  14170.000000",
      "text/html": "<div>\n<style scoped>\n    .dataframe tbody tr th:only-of-type {\n        vertical-align: middle;\n    }\n\n    .dataframe tbody tr th {\n        vertical-align: top;\n    }\n\n    .dataframe thead th {\n        text-align: right;\n    }\n</style>\n<table border=\"1\" class=\"dataframe\">\n  <thead>\n    <tr style=\"text-align: right;\">\n      <th></th>\n      <th>顧客ID</th>\n      <th>女性</th>\n      <th>年齢</th>\n      <th>最終購買日からの日数</th>\n      <th>来店回数</th>\n      <th>総購買金額</th>\n    </tr>\n    <tr>\n      <th>店舗への満足度</th>\n      <th></th>\n      <th></th>\n      <th></th>\n      <th></th>\n      <th></th>\n      <th></th>\n    </tr>\n  </thead>\n  <tbody>\n    <tr>\n      <th>1</th>\n      <td>30.800000</td>\n      <td>0.200000</td>\n      <td>22.200000</td>\n      <td>80.200000</td>\n      <td>17.400000</td>\n      <td>7026.000000</td>\n    </tr>\n    <tr>\n      <th>2</th>\n      <td>45.653846</td>\n      <td>0.538462</td>\n      <td>21.269231</td>\n      <td>79.115385</td>\n      <td>20.230769</td>\n      <td>8726.538462</td>\n    </tr>\n    <tr>\n      <th>3</th>\n      <td>48.514286</td>\n      <td>0.542857</td>\n      <td>20.828571</td>\n      <td>78.028571</td>\n      <td>32.685714</td>\n      <td>9656.285714</td>\n    </tr>\n    <tr>\n      <th>4</th>\n      <td>55.111111</td>\n      <td>0.518519</td>\n      <td>21.259259</td>\n      <td>79.481481</td>\n      <td>33.259259</td>\n      <td>10221.851852</td>\n    </tr>\n    <tr>\n      <th>5</th>\n      <td>64.800000</td>\n      <td>0.400000</td>\n      <td>22.400000</td>\n      <td>69.600000</td>\n      <td>58.600000</td>\n      <td>14170.000000</td>\n    </tr>\n  </tbody>\n</table>\n</div>"
     },
     "execution_count": 20,
     "metadata": {},
     "output_type": "execute_result"
    }
   ],
   "source": [
    "profile.groupby(\"店舗への満足度\").mean()"
   ],
   "metadata": {
    "collapsed": false,
    "pycharm": {
     "name": "#%%\n"
    }
   }
  },
  {
   "cell_type": "code",
   "execution_count": 21,
   "outputs": [
    {
     "data": {
      "text/plain": "              顧客ID   うまい棒サラダ味  うまい棒コーンポタージュ味  ベビースターラーメン       柿の種   サッポロポテト  \\\n店舗への満足度                                                                        \n1        30.800000  10.400000       9.133333    7.000000  3.000000  2.533333   \n2        45.653846   7.769231       9.641026    7.333333  5.564103  4.371795   \n3        48.514286   7.733333       9.857143    7.419048  5.819048  5.247619   \n4        55.111111  11.185185      12.691358    8.419753  6.320988  5.296296   \n5        64.800000  10.066667      12.733333   15.600000  6.200000  5.800000   \n\n           キットカット     おーいお茶    おいしい珈琲     ミネラル麦茶     レッドブル         購入金額  \\\n店舗への満足度                                                                   \n1        1.000000  1.533333  1.266667   7.400000  2.800000  2342.000000   \n2        2.564103  1.512821  1.256410   8.153846  4.358974  2908.846154   \n3        3.371429  2.295238  2.361905   7.619048  4.933333  3218.761905   \n4        2.790123  1.580247  1.728395   8.172840  5.481481  3407.283951   \n5        4.600000  4.466667  3.333333  12.466667  6.333333  4723.333333   \n\n               女性         年齢  最終購買日からの日数       来店回数         総購買金額  \n店舗への満足度                                                            \n1        0.200000  22.200000   80.200000  17.400000   7026.000000  \n2        0.538462  21.269231   79.115385  20.230769   8726.538462  \n3        0.542857  20.828571   78.028571  32.685714   9656.285714  \n4        0.518519  21.259259   79.481481  33.259259  10221.851852  \n5        0.400000  22.400000   69.600000  58.600000  14170.000000  ",
      "text/html": "<div>\n<style scoped>\n    .dataframe tbody tr th:only-of-type {\n        vertical-align: middle;\n    }\n\n    .dataframe tbody tr th {\n        vertical-align: top;\n    }\n\n    .dataframe thead th {\n        text-align: right;\n    }\n</style>\n<table border=\"1\" class=\"dataframe\">\n  <thead>\n    <tr style=\"text-align: right;\">\n      <th></th>\n      <th>顧客ID</th>\n      <th>うまい棒サラダ味</th>\n      <th>うまい棒コーンポタージュ味</th>\n      <th>ベビースターラーメン</th>\n      <th>柿の種</th>\n      <th>サッポロポテト</th>\n      <th>キットカット</th>\n      <th>おーいお茶</th>\n      <th>おいしい珈琲</th>\n      <th>ミネラル麦茶</th>\n      <th>レッドブル</th>\n      <th>購入金額</th>\n      <th>女性</th>\n      <th>年齢</th>\n      <th>最終購買日からの日数</th>\n      <th>来店回数</th>\n      <th>総購買金額</th>\n    </tr>\n    <tr>\n      <th>店舗への満足度</th>\n      <th></th>\n      <th></th>\n      <th></th>\n      <th></th>\n      <th></th>\n      <th></th>\n      <th></th>\n      <th></th>\n      <th></th>\n      <th></th>\n      <th></th>\n      <th></th>\n      <th></th>\n      <th></th>\n      <th></th>\n      <th></th>\n      <th></th>\n    </tr>\n  </thead>\n  <tbody>\n    <tr>\n      <th>1</th>\n      <td>30.800000</td>\n      <td>10.400000</td>\n      <td>9.133333</td>\n      <td>7.000000</td>\n      <td>3.000000</td>\n      <td>2.533333</td>\n      <td>1.000000</td>\n      <td>1.533333</td>\n      <td>1.266667</td>\n      <td>7.400000</td>\n      <td>2.800000</td>\n      <td>2342.000000</td>\n      <td>0.200000</td>\n      <td>22.200000</td>\n      <td>80.200000</td>\n      <td>17.400000</td>\n      <td>7026.000000</td>\n    </tr>\n    <tr>\n      <th>2</th>\n      <td>45.653846</td>\n      <td>7.769231</td>\n      <td>9.641026</td>\n      <td>7.333333</td>\n      <td>5.564103</td>\n      <td>4.371795</td>\n      <td>2.564103</td>\n      <td>1.512821</td>\n      <td>1.256410</td>\n      <td>8.153846</td>\n      <td>4.358974</td>\n      <td>2908.846154</td>\n      <td>0.538462</td>\n      <td>21.269231</td>\n      <td>79.115385</td>\n      <td>20.230769</td>\n      <td>8726.538462</td>\n    </tr>\n    <tr>\n      <th>3</th>\n      <td>48.514286</td>\n      <td>7.733333</td>\n      <td>9.857143</td>\n      <td>7.419048</td>\n      <td>5.819048</td>\n      <td>5.247619</td>\n      <td>3.371429</td>\n      <td>2.295238</td>\n      <td>2.361905</td>\n      <td>7.619048</td>\n      <td>4.933333</td>\n      <td>3218.761905</td>\n      <td>0.542857</td>\n      <td>20.828571</td>\n      <td>78.028571</td>\n      <td>32.685714</td>\n      <td>9656.285714</td>\n    </tr>\n    <tr>\n      <th>4</th>\n      <td>55.111111</td>\n      <td>11.185185</td>\n      <td>12.691358</td>\n      <td>8.419753</td>\n      <td>6.320988</td>\n      <td>5.296296</td>\n      <td>2.790123</td>\n      <td>1.580247</td>\n      <td>1.728395</td>\n      <td>8.172840</td>\n      <td>5.481481</td>\n      <td>3407.283951</td>\n      <td>0.518519</td>\n      <td>21.259259</td>\n      <td>79.481481</td>\n      <td>33.259259</td>\n      <td>10221.851852</td>\n    </tr>\n    <tr>\n      <th>5</th>\n      <td>64.800000</td>\n      <td>10.066667</td>\n      <td>12.733333</td>\n      <td>15.600000</td>\n      <td>6.200000</td>\n      <td>5.800000</td>\n      <td>4.600000</td>\n      <td>4.466667</td>\n      <td>3.333333</td>\n      <td>12.466667</td>\n      <td>6.333333</td>\n      <td>4723.333333</td>\n      <td>0.400000</td>\n      <td>22.400000</td>\n      <td>69.600000</td>\n      <td>58.600000</td>\n      <td>14170.000000</td>\n    </tr>\n  </tbody>\n</table>\n</div>"
     },
     "execution_count": 21,
     "metadata": {},
     "output_type": "execute_result"
    }
   ],
   "source": [
    "data.groupby(\"店舗への満足度\").mean()"
   ],
   "metadata": {
    "collapsed": false,
    "pycharm": {
     "name": "#%%\n"
    }
   }
  },
  {
   "cell_type": "code",
   "execution_count": 23,
   "outputs": [
    {
     "data": {
      "text/plain": "3    105\n4     81\n2     78\n5     15\n1     15\nName: 店舗への満足度, dtype: int64"
     },
     "execution_count": 23,
     "metadata": {},
     "output_type": "execute_result"
    }
   ],
   "source": [
    "data[\"店舗への満足度\"].value_counts()"
   ],
   "metadata": {
    "collapsed": false,
    "pycharm": {
     "name": "#%%\n"
    }
   }
  },
  {
   "cell_type": "code",
   "execution_count": 38,
   "outputs": [
    {
     "data": {
      "text/plain": "         うまい棒サラダ味  うまい棒コーンポタージュ味  ベビースターラーメン  柿の種  サッポロポテト  キットカット  おーいお茶  \\\n店舗への満足度                                                                     \n1             156            137         105   45       38      15     23   \n2             606            752         572  434      341     200    118   \n3             812           1035         779  611      551     354    241   \n4             906           1028         682  512      429     226    128   \n5             151            191         234   93       87      69     67   \n\n         おいしい珈琲  ミネラル麦茶  レッドブル  \n店舗への満足度                         \n1            19     111     42  \n2            98     636    340  \n3           248     800    518  \n4           140     662    444  \n5            50     187     95  ",
      "text/html": "<div>\n<style scoped>\n    .dataframe tbody tr th:only-of-type {\n        vertical-align: middle;\n    }\n\n    .dataframe tbody tr th {\n        vertical-align: top;\n    }\n\n    .dataframe thead th {\n        text-align: right;\n    }\n</style>\n<table border=\"1\" class=\"dataframe\">\n  <thead>\n    <tr style=\"text-align: right;\">\n      <th></th>\n      <th>うまい棒サラダ味</th>\n      <th>うまい棒コーンポタージュ味</th>\n      <th>ベビースターラーメン</th>\n      <th>柿の種</th>\n      <th>サッポロポテト</th>\n      <th>キットカット</th>\n      <th>おーいお茶</th>\n      <th>おいしい珈琲</th>\n      <th>ミネラル麦茶</th>\n      <th>レッドブル</th>\n    </tr>\n    <tr>\n      <th>店舗への満足度</th>\n      <th></th>\n      <th></th>\n      <th></th>\n      <th></th>\n      <th></th>\n      <th></th>\n      <th></th>\n      <th></th>\n      <th></th>\n      <th></th>\n    </tr>\n  </thead>\n  <tbody>\n    <tr>\n      <th>1</th>\n      <td>156</td>\n      <td>137</td>\n      <td>105</td>\n      <td>45</td>\n      <td>38</td>\n      <td>15</td>\n      <td>23</td>\n      <td>19</td>\n      <td>111</td>\n      <td>42</td>\n    </tr>\n    <tr>\n      <th>2</th>\n      <td>606</td>\n      <td>752</td>\n      <td>572</td>\n      <td>434</td>\n      <td>341</td>\n      <td>200</td>\n      <td>118</td>\n      <td>98</td>\n      <td>636</td>\n      <td>340</td>\n    </tr>\n    <tr>\n      <th>3</th>\n      <td>812</td>\n      <td>1035</td>\n      <td>779</td>\n      <td>611</td>\n      <td>551</td>\n      <td>354</td>\n      <td>241</td>\n      <td>248</td>\n      <td>800</td>\n      <td>518</td>\n    </tr>\n    <tr>\n      <th>4</th>\n      <td>906</td>\n      <td>1028</td>\n      <td>682</td>\n      <td>512</td>\n      <td>429</td>\n      <td>226</td>\n      <td>128</td>\n      <td>140</td>\n      <td>662</td>\n      <td>444</td>\n    </tr>\n    <tr>\n      <th>5</th>\n      <td>151</td>\n      <td>191</td>\n      <td>234</td>\n      <td>93</td>\n      <td>87</td>\n      <td>69</td>\n      <td>67</td>\n      <td>50</td>\n      <td>187</td>\n      <td>95</td>\n    </tr>\n  </tbody>\n</table>\n</div>"
     },
     "execution_count": 38,
     "metadata": {},
     "output_type": "execute_result"
    }
   ],
   "source": [
    "item = [\"店舗への満足度\",\n",
    "        \"うまい棒サラダ味\",\n",
    "        \"うまい棒コーンポタージュ味\",\n",
    "        \"ベビースターラーメン\",\n",
    "        \"柿の種\",\n",
    "        \"サッポロポテト\",\n",
    "        \"キットカット\",\n",
    "        \"おーいお茶\",\n",
    "        \"おいしい珈琲\",\n",
    "        \"ミネラル麦茶\",\n",
    "        \"レッドブル\"]\n",
    "manzoku = data.loc[:,item].groupby(\"店舗への満足度\")\n",
    "manzoku.sum()"
   ],
   "metadata": {
    "collapsed": false,
    "pycharm": {
     "name": "#%%\n"
    }
   }
  },
  {
   "cell_type": "code",
   "execution_count": 50,
   "outputs": [
    {
     "data": {
      "text/plain": "         うまい棒サラダ味  うまい棒コーンポタージュ味  ベビースターラーメン       柿の種   サッポロポテト    キットカット  \\\n店舗への満足度                                                                      \n1        0.225760       0.198263    0.151954  0.065123  0.054993  0.021708   \n2        0.147913       0.183549    0.139614  0.105931  0.083232  0.048816   \n3        0.136494       0.173979    0.130946  0.102706  0.092621  0.059506   \n4        0.175684       0.199341    0.132247  0.099283  0.083188  0.043824   \n5        0.123366       0.156046    0.191176  0.075980  0.071078  0.056373   \n\n            おーいお茶    おいしい珈琲    ミネラル麦茶     レッドブル  \n店舗への満足度                                          \n1        0.033285  0.027496  0.160637  0.060781  \n2        0.028802  0.023920  0.155236  0.082988  \n3        0.040511  0.041688  0.134476  0.087073  \n4        0.024821  0.027148  0.128369  0.086097  \n5        0.054739  0.040850  0.152778  0.077614  ",
      "text/html": "<div>\n<style scoped>\n    .dataframe tbody tr th:only-of-type {\n        vertical-align: middle;\n    }\n\n    .dataframe tbody tr th {\n        vertical-align: top;\n    }\n\n    .dataframe thead th {\n        text-align: right;\n    }\n</style>\n<table border=\"1\" class=\"dataframe\">\n  <thead>\n    <tr style=\"text-align: right;\">\n      <th></th>\n      <th>うまい棒サラダ味</th>\n      <th>うまい棒コーンポタージュ味</th>\n      <th>ベビースターラーメン</th>\n      <th>柿の種</th>\n      <th>サッポロポテト</th>\n      <th>キットカット</th>\n      <th>おーいお茶</th>\n      <th>おいしい珈琲</th>\n      <th>ミネラル麦茶</th>\n      <th>レッドブル</th>\n    </tr>\n    <tr>\n      <th>店舗への満足度</th>\n      <th></th>\n      <th></th>\n      <th></th>\n      <th></th>\n      <th></th>\n      <th></th>\n      <th></th>\n      <th></th>\n      <th></th>\n      <th></th>\n    </tr>\n  </thead>\n  <tbody>\n    <tr>\n      <th>1</th>\n      <td>0.225760</td>\n      <td>0.198263</td>\n      <td>0.151954</td>\n      <td>0.065123</td>\n      <td>0.054993</td>\n      <td>0.021708</td>\n      <td>0.033285</td>\n      <td>0.027496</td>\n      <td>0.160637</td>\n      <td>0.060781</td>\n    </tr>\n    <tr>\n      <th>2</th>\n      <td>0.147913</td>\n      <td>0.183549</td>\n      <td>0.139614</td>\n      <td>0.105931</td>\n      <td>0.083232</td>\n      <td>0.048816</td>\n      <td>0.028802</td>\n      <td>0.023920</td>\n      <td>0.155236</td>\n      <td>0.082988</td>\n    </tr>\n    <tr>\n      <th>3</th>\n      <td>0.136494</td>\n      <td>0.173979</td>\n      <td>0.130946</td>\n      <td>0.102706</td>\n      <td>0.092621</td>\n      <td>0.059506</td>\n      <td>0.040511</td>\n      <td>0.041688</td>\n      <td>0.134476</td>\n      <td>0.087073</td>\n    </tr>\n    <tr>\n      <th>4</th>\n      <td>0.175684</td>\n      <td>0.199341</td>\n      <td>0.132247</td>\n      <td>0.099283</td>\n      <td>0.083188</td>\n      <td>0.043824</td>\n      <td>0.024821</td>\n      <td>0.027148</td>\n      <td>0.128369</td>\n      <td>0.086097</td>\n    </tr>\n    <tr>\n      <th>5</th>\n      <td>0.123366</td>\n      <td>0.156046</td>\n      <td>0.191176</td>\n      <td>0.075980</td>\n      <td>0.071078</td>\n      <td>0.056373</td>\n      <td>0.054739</td>\n      <td>0.040850</td>\n      <td>0.152778</td>\n      <td>0.077614</td>\n    </tr>\n  </tbody>\n</table>\n</div>"
     },
     "execution_count": 50,
     "metadata": {},
     "output_type": "execute_result"
    }
   ],
   "source": [
    "\n",
    "manzoku.sum() /  manzoku.sum().sum(axis = 1).values.reshape(-1,1)"
   ],
   "metadata": {
    "collapsed": false,
    "pycharm": {
     "name": "#%%\n"
    }
   }
  },
  {
   "cell_type": "code",
   "execution_count": null,
   "outputs": [],
   "source": [],
   "metadata": {
    "collapsed": false,
    "pycharm": {
     "name": "#%%\n"
    }
   }
  }
 ],
 "metadata": {
  "kernelspec": {
   "display_name": "Python 3",
   "language": "python",
   "name": "python3"
  },
  "language_info": {
   "codemirror_mode": {
    "name": "ipython",
    "version": 2
   },
   "file_extension": ".py",
   "mimetype": "text/x-python",
   "name": "python",
   "nbconvert_exporter": "python",
   "pygments_lexer": "ipython2",
   "version": "2.7.6"
  }
 },
 "nbformat": 4,
 "nbformat_minor": 0
}