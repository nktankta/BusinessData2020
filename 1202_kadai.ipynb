{
 "cells": [
  {
   "cell_type": "code",
   "execution_count": 25,
   "metadata": {
    "collapsed": true
   },
   "outputs": [],
   "source": [
    "import pandas as pd\n",
    "import numpy as np\n",
    "import matplotlib.pyplot as plt"
   ]
  },
  {
   "cell_type": "code",
   "execution_count": 26,
   "outputs": [],
   "source": [
    "path = u\"./授業用ファイル/\"\n",
    "item = pd.read_csv(path+\"item.csv\",encoding=\"shift_jis\")\n",
    "purchase = pd.read_csv(path+\"purchase.csv\",encoding=\"shift_jis\")\n",
    "user = pd.read_csv(path+\"user.csv\",encoding=\"shift_jis\")"
   ],
   "metadata": {
    "collapsed": false,
    "pycharm": {
     "name": "#%%\n"
    }
   }
  },
  {
   "cell_type": "code",
   "execution_count": 27,
   "outputs": [
    {
     "data": {
      "text/plain": "   商品ID   名前   価格   種別\n0     1  りんご  120   果物\n1     2  バナナ  110   果物\n2     3  キウイ   80   果物\n3     4   牛乳  150  乳製品\n4     5    傘  500  日用品",
      "text/html": "<div>\n<style scoped>\n    .dataframe tbody tr th:only-of-type {\n        vertical-align: middle;\n    }\n\n    .dataframe tbody tr th {\n        vertical-align: top;\n    }\n\n    .dataframe thead th {\n        text-align: right;\n    }\n</style>\n<table border=\"1\" class=\"dataframe\">\n  <thead>\n    <tr style=\"text-align: right;\">\n      <th></th>\n      <th>商品ID</th>\n      <th>名前</th>\n      <th>価格</th>\n      <th>種別</th>\n    </tr>\n  </thead>\n  <tbody>\n    <tr>\n      <th>0</th>\n      <td>1</td>\n      <td>りんご</td>\n      <td>120</td>\n      <td>果物</td>\n    </tr>\n    <tr>\n      <th>1</th>\n      <td>2</td>\n      <td>バナナ</td>\n      <td>110</td>\n      <td>果物</td>\n    </tr>\n    <tr>\n      <th>2</th>\n      <td>3</td>\n      <td>キウイ</td>\n      <td>80</td>\n      <td>果物</td>\n    </tr>\n    <tr>\n      <th>3</th>\n      <td>4</td>\n      <td>牛乳</td>\n      <td>150</td>\n      <td>乳製品</td>\n    </tr>\n    <tr>\n      <th>4</th>\n      <td>5</td>\n      <td>傘</td>\n      <td>500</td>\n      <td>日用品</td>\n    </tr>\n  </tbody>\n</table>\n</div>"
     },
     "execution_count": 27,
     "metadata": {},
     "output_type": "execute_result"
    }
   ],
   "source": [
    "item"
   ],
   "metadata": {
    "collapsed": false,
    "pycharm": {
     "name": "#%%\n"
    }
   }
  },
  {
   "cell_type": "code",
   "execution_count": 28,
   "outputs": [
    {
     "data": {
      "text/plain": "   顧客ID  名前   年齢 性別  居住地\n0     1  A子  30代  女  東京都\n1     2  B子  60代  女  東京都\n2     3  Ｃ太  30代  男  長野県\n3     4  D美  70代  女  鳥取県\n4     5  E男  50代  男  愛知県",
      "text/html": "<div>\n<style scoped>\n    .dataframe tbody tr th:only-of-type {\n        vertical-align: middle;\n    }\n\n    .dataframe tbody tr th {\n        vertical-align: top;\n    }\n\n    .dataframe thead th {\n        text-align: right;\n    }\n</style>\n<table border=\"1\" class=\"dataframe\">\n  <thead>\n    <tr style=\"text-align: right;\">\n      <th></th>\n      <th>顧客ID</th>\n      <th>名前</th>\n      <th>年齢</th>\n      <th>性別</th>\n      <th>居住地</th>\n    </tr>\n  </thead>\n  <tbody>\n    <tr>\n      <th>0</th>\n      <td>1</td>\n      <td>A子</td>\n      <td>30代</td>\n      <td>女</td>\n      <td>東京都</td>\n    </tr>\n    <tr>\n      <th>1</th>\n      <td>2</td>\n      <td>B子</td>\n      <td>60代</td>\n      <td>女</td>\n      <td>東京都</td>\n    </tr>\n    <tr>\n      <th>2</th>\n      <td>3</td>\n      <td>Ｃ太</td>\n      <td>30代</td>\n      <td>男</td>\n      <td>長野県</td>\n    </tr>\n    <tr>\n      <th>3</th>\n      <td>4</td>\n      <td>D美</td>\n      <td>70代</td>\n      <td>女</td>\n      <td>鳥取県</td>\n    </tr>\n    <tr>\n      <th>4</th>\n      <td>5</td>\n      <td>E男</td>\n      <td>50代</td>\n      <td>男</td>\n      <td>愛知県</td>\n    </tr>\n  </tbody>\n</table>\n</div>"
     },
     "execution_count": 28,
     "metadata": {},
     "output_type": "execute_result"
    }
   ],
   "source": [
    "user"
   ],
   "metadata": {
    "collapsed": false,
    "pycharm": {
     "name": "#%%\n"
    }
   }
  },
  {
   "cell_type": "code",
   "execution_count": 29,
   "outputs": [
    {
     "data": {
      "text/plain": "   売上ID    売上日時  顧客ID  商品ID\n0     1   10月8日     1     2\n1     2   10月8日     1     5\n2     3   10月8日     2     1\n3     4   10月8日     5     1\n4     5   10月9日     3     3\n5     6   10月9日     3     4\n6     7   10月9日     4     2\n7     8  10月10日     1     1\n8     9  10月11日     1     5\n9    10  10月12日     4     2",
      "text/html": "<div>\n<style scoped>\n    .dataframe tbody tr th:only-of-type {\n        vertical-align: middle;\n    }\n\n    .dataframe tbody tr th {\n        vertical-align: top;\n    }\n\n    .dataframe thead th {\n        text-align: right;\n    }\n</style>\n<table border=\"1\" class=\"dataframe\">\n  <thead>\n    <tr style=\"text-align: right;\">\n      <th></th>\n      <th>売上ID</th>\n      <th>売上日時</th>\n      <th>顧客ID</th>\n      <th>商品ID</th>\n    </tr>\n  </thead>\n  <tbody>\n    <tr>\n      <th>0</th>\n      <td>1</td>\n      <td>10月8日</td>\n      <td>1</td>\n      <td>2</td>\n    </tr>\n    <tr>\n      <th>1</th>\n      <td>2</td>\n      <td>10月8日</td>\n      <td>1</td>\n      <td>5</td>\n    </tr>\n    <tr>\n      <th>2</th>\n      <td>3</td>\n      <td>10月8日</td>\n      <td>2</td>\n      <td>1</td>\n    </tr>\n    <tr>\n      <th>3</th>\n      <td>4</td>\n      <td>10月8日</td>\n      <td>5</td>\n      <td>1</td>\n    </tr>\n    <tr>\n      <th>4</th>\n      <td>5</td>\n      <td>10月9日</td>\n      <td>3</td>\n      <td>3</td>\n    </tr>\n    <tr>\n      <th>5</th>\n      <td>6</td>\n      <td>10月9日</td>\n      <td>3</td>\n      <td>4</td>\n    </tr>\n    <tr>\n      <th>6</th>\n      <td>7</td>\n      <td>10月9日</td>\n      <td>4</td>\n      <td>2</td>\n    </tr>\n    <tr>\n      <th>7</th>\n      <td>8</td>\n      <td>10月10日</td>\n      <td>1</td>\n      <td>1</td>\n    </tr>\n    <tr>\n      <th>8</th>\n      <td>9</td>\n      <td>10月11日</td>\n      <td>1</td>\n      <td>5</td>\n    </tr>\n    <tr>\n      <th>9</th>\n      <td>10</td>\n      <td>10月12日</td>\n      <td>4</td>\n      <td>2</td>\n    </tr>\n  </tbody>\n</table>\n</div>"
     },
     "execution_count": 29,
     "metadata": {},
     "output_type": "execute_result"
    }
   ],
   "source": [
    "purchase"
   ],
   "metadata": {
    "collapsed": false,
    "pycharm": {
     "name": "#%%\n"
    }
   }
  },
  {
   "cell_type": "code",
   "execution_count": 30,
   "outputs": [
    {
     "data": {
      "text/plain": "   売上ID    売上日時  顧客ID  商品ID 名前_x   価格   種別 名前_y   年齢 性別  居住地\n0     1   10月8日     1     2  バナナ  110   果物   A子  30代  女  東京都\n1     2   10月8日     1     5    傘  500  日用品   A子  30代  女  東京都\n2     9  10月11日     1     5    傘  500  日用品   A子  30代  女  東京都\n3     8  10月10日     1     1  りんご  120   果物   A子  30代  女  東京都\n4     7   10月9日     4     2  バナナ  110   果物   D美  70代  女  鳥取県\n5    10  10月12日     4     2  バナナ  110   果物   D美  70代  女  鳥取県\n6     3   10月8日     2     1  りんご  120   果物   B子  60代  女  東京都\n7     4   10月8日     5     1  りんご  120   果物   E男  50代  男  愛知県\n8     5   10月9日     3     3  キウイ   80   果物   Ｃ太  30代  男  長野県\n9     6   10月9日     3     4   牛乳  150  乳製品   Ｃ太  30代  男  長野県",
      "text/html": "<div>\n<style scoped>\n    .dataframe tbody tr th:only-of-type {\n        vertical-align: middle;\n    }\n\n    .dataframe tbody tr th {\n        vertical-align: top;\n    }\n\n    .dataframe thead th {\n        text-align: right;\n    }\n</style>\n<table border=\"1\" class=\"dataframe\">\n  <thead>\n    <tr style=\"text-align: right;\">\n      <th></th>\n      <th>売上ID</th>\n      <th>売上日時</th>\n      <th>顧客ID</th>\n      <th>商品ID</th>\n      <th>名前_x</th>\n      <th>価格</th>\n      <th>種別</th>\n      <th>名前_y</th>\n      <th>年齢</th>\n      <th>性別</th>\n      <th>居住地</th>\n    </tr>\n  </thead>\n  <tbody>\n    <tr>\n      <th>0</th>\n      <td>1</td>\n      <td>10月8日</td>\n      <td>1</td>\n      <td>2</td>\n      <td>バナナ</td>\n      <td>110</td>\n      <td>果物</td>\n      <td>A子</td>\n      <td>30代</td>\n      <td>女</td>\n      <td>東京都</td>\n    </tr>\n    <tr>\n      <th>1</th>\n      <td>2</td>\n      <td>10月8日</td>\n      <td>1</td>\n      <td>5</td>\n      <td>傘</td>\n      <td>500</td>\n      <td>日用品</td>\n      <td>A子</td>\n      <td>30代</td>\n      <td>女</td>\n      <td>東京都</td>\n    </tr>\n    <tr>\n      <th>2</th>\n      <td>9</td>\n      <td>10月11日</td>\n      <td>1</td>\n      <td>5</td>\n      <td>傘</td>\n      <td>500</td>\n      <td>日用品</td>\n      <td>A子</td>\n      <td>30代</td>\n      <td>女</td>\n      <td>東京都</td>\n    </tr>\n    <tr>\n      <th>3</th>\n      <td>8</td>\n      <td>10月10日</td>\n      <td>1</td>\n      <td>1</td>\n      <td>りんご</td>\n      <td>120</td>\n      <td>果物</td>\n      <td>A子</td>\n      <td>30代</td>\n      <td>女</td>\n      <td>東京都</td>\n    </tr>\n    <tr>\n      <th>4</th>\n      <td>7</td>\n      <td>10月9日</td>\n      <td>4</td>\n      <td>2</td>\n      <td>バナナ</td>\n      <td>110</td>\n      <td>果物</td>\n      <td>D美</td>\n      <td>70代</td>\n      <td>女</td>\n      <td>鳥取県</td>\n    </tr>\n    <tr>\n      <th>5</th>\n      <td>10</td>\n      <td>10月12日</td>\n      <td>4</td>\n      <td>2</td>\n      <td>バナナ</td>\n      <td>110</td>\n      <td>果物</td>\n      <td>D美</td>\n      <td>70代</td>\n      <td>女</td>\n      <td>鳥取県</td>\n    </tr>\n    <tr>\n      <th>6</th>\n      <td>3</td>\n      <td>10月8日</td>\n      <td>2</td>\n      <td>1</td>\n      <td>りんご</td>\n      <td>120</td>\n      <td>果物</td>\n      <td>B子</td>\n      <td>60代</td>\n      <td>女</td>\n      <td>東京都</td>\n    </tr>\n    <tr>\n      <th>7</th>\n      <td>4</td>\n      <td>10月8日</td>\n      <td>5</td>\n      <td>1</td>\n      <td>りんご</td>\n      <td>120</td>\n      <td>果物</td>\n      <td>E男</td>\n      <td>50代</td>\n      <td>男</td>\n      <td>愛知県</td>\n    </tr>\n    <tr>\n      <th>8</th>\n      <td>5</td>\n      <td>10月9日</td>\n      <td>3</td>\n      <td>3</td>\n      <td>キウイ</td>\n      <td>80</td>\n      <td>果物</td>\n      <td>Ｃ太</td>\n      <td>30代</td>\n      <td>男</td>\n      <td>長野県</td>\n    </tr>\n    <tr>\n      <th>9</th>\n      <td>6</td>\n      <td>10月9日</td>\n      <td>3</td>\n      <td>4</td>\n      <td>牛乳</td>\n      <td>150</td>\n      <td>乳製品</td>\n      <td>Ｃ太</td>\n      <td>30代</td>\n      <td>男</td>\n      <td>長野県</td>\n    </tr>\n  </tbody>\n</table>\n</div>"
     },
     "execution_count": 30,
     "metadata": {},
     "output_type": "execute_result"
    }
   ],
   "source": [
    "data = pd.merge(purchase,item).merge(user,left_on=\"顧客ID\",right_on=\"顧客ID\")\n",
    "data\n"
   ],
   "metadata": {
    "collapsed": false,
    "pycharm": {
     "name": "#%%\n"
    }
   }
  },
  {
   "cell_type": "code",
   "execution_count": 31,
   "outputs": [
    {
     "name": "stdout",
     "output_type": "stream",
     "text": [
      "(1)\n"
     ]
    },
    {
     "data": {
      "text/plain": "1230"
     },
     "execution_count": 31,
     "metadata": {},
     "output_type": "execute_result"
    }
   ],
   "source": [
    "print(\"(1)\")\n",
    "data[data[\"名前_y\"]==\"A子\"][\"価格\"].sum()"
   ],
   "metadata": {
    "collapsed": false,
    "pycharm": {
     "name": "#%%\n"
    }
   }
  },
  {
   "cell_type": "code",
   "execution_count": 45,
   "outputs": [
    {
     "name": "stdout",
     "output_type": "stream",
     "text": [
      "(2),(3)\n",
      "名前_x\n",
      "りんご     360\n",
      "キウイ      80\n",
      "バナナ     330\n",
      "傘      1000\n",
      "牛乳      150\n",
      "Name: 価格, dtype: int64\n",
      "名前_x\n",
      "りんご    3\n",
      "キウイ    1\n",
      "バナナ    3\n",
      "傘      2\n",
      "牛乳     1\n",
      "Name: 売上ID, dtype: int64\n"
     ]
    }
   ],
   "source": [
    "print(\"(2)\")\n",
    "print(data.groupby(\"名前_x\")[\"価格\"].sum())\n",
    "print(data.groupby(\"名前_x\")[\"売上ID\"].count())"
   ],
   "metadata": {
    "collapsed": false,
    "pycharm": {
     "name": "#%%\n"
    }
   }
  },
  {
   "cell_type": "code",
   "execution_count": 39,
   "outputs": [
    {
     "data": {
      "text/plain": "名前_x\nりんご    3\nキウイ    1\nバナナ    3\n傘      2\n牛乳     1\nName: 売上ID, dtype: int64"
     },
     "execution_count": 39,
     "metadata": {},
     "output_type": "execute_result"
    }
   ],
   "source": [],
   "metadata": {
    "collapsed": false,
    "pycharm": {
     "name": "#%%\n"
    }
   }
  },
  {
   "cell_type": "code",
   "execution_count": 46,
   "outputs": [
    {
     "name": "stdout",
     "output_type": "stream",
     "text": [
      "7\n",
      "770\n"
     ]
    }
   ],
   "source": [
    "print(\"(3)\")\n",
    "fruit = [\"りんご\",\"キウイ\",\"バナナ\"]\n",
    "print(data[data[\"名前_x\"].isin(fruit)][\"売上ID\"].count())\n",
    "print(data[data[\"名前_x\"].isin(fruit)][\"価格\"].sum())"
   ],
   "metadata": {
    "collapsed": false,
    "pycharm": {
     "name": "#%%\n"
    }
   }
  },
  {
   "cell_type": "code",
   "execution_count": 47,
   "outputs": [
    {
     "data": {
      "text/plain": "性別\n女    1570\n男     350\nName: 価格, dtype: int64"
     },
     "execution_count": 47,
     "metadata": {},
     "output_type": "execute_result"
    }
   ],
   "source": [
    "print(\"(4)\")\n",
    "data.groupby(\"性別\")[\"価格\"].sum()"
   ],
   "metadata": {
    "collapsed": false,
    "pycharm": {
     "name": "#%%\n"
    }
   }
  },
  {
   "cell_type": "code",
   "execution_count": 49,
   "outputs": [
    {
     "name": "stdout",
     "output_type": "stream",
     "text": [
      "(5)\n"
     ]
    },
    {
     "data": {
      "text/plain": "年齢\n30代    6\n50代    1\n60代    1\n70代    2\nName: 売上ID, dtype: int64"
     },
     "execution_count": 49,
     "metadata": {},
     "output_type": "execute_result"
    }
   ],
   "source": [
    "print(\"(5)\")\n",
    "data.groupby(\"年齢\")[\"売上ID\"].count()\n"
   ],
   "metadata": {
    "collapsed": false,
    "pycharm": {
     "name": "#%%\n"
    }
   }
  }
 ],
 "metadata": {
  "kernelspec": {
   "display_name": "Python 3",
   "language": "python",
   "name": "python3"
  },
  "language_info": {
   "codemirror_mode": {
    "name": "ipython",
    "version": 2
   },
   "file_extension": ".py",
   "mimetype": "text/x-python",
   "name": "python",
   "nbconvert_exporter": "python",
   "pygments_lexer": "ipython2",
   "version": "2.7.6"
  }
 },
 "nbformat": 4,
 "nbformat_minor": 0
}